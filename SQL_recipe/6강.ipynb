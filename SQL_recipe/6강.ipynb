{
 "cells": [
  {
   "cell_type": "code",
   "execution_count": 2,
   "metadata": {},
   "outputs": [],
   "source": [
    "import findspark\n",
    "from pyspark.sql import SparkSession\n",
    "\n",
    "findspark.init()\n",
    "\n",
    "sc = SparkSession.builder.appName(\"PysparkExample\")\\\n",
    ".config (\"spark.sql.shuffle.partitions\", \"50\")\\\n",
    ".config(\"spark.driver.maxResultSize\",\"5g\")\\\n",
    ".config (\"spark.sql.execution.arrow.enabled\", \"true\")\\\n",
    ".getOrCreate()"
   ]
  },
  {
   "cell_type": "markdown",
   "metadata": {},
   "source": [
    "## 1"
   ]
  },
  {
   "cell_type": "code",
   "execution_count": 3,
   "metadata": {},
   "outputs": [
    {
     "name": "stdout",
     "output_type": "stream",
     "text": [
      "+-------+--------------+---------+\n",
      "|user_id|     pref_name|city_name|\n",
      "+-------+--------------+---------+\n",
      "|   U003|제주특별자치도| 서귀포시|\n",
      "|   U002|  경기도수원시|   장안구|\n",
      "|   U001|    서울특별시|   강서구|\n",
      "+-------+--------------+---------+\n",
      "\n"
     ]
    }
   ],
   "source": [
    "sc.sql(\n",
    "\"create table mst_user_location(\\\n",
    "user_id varchar(255)\\\n",
    ",pref_name varchar(255)\\\n",
    ",city_name varchar(255))\")\n",
    "\n",
    "sc.sql(\n",
    "\"insert into mst_user_location values \\\n",
    " ('U001', '서울특별시', '강서구')\\\n",
    "  , ('U002', '경기도수원시', '장안구'  )\\\n",
    "  , ('U003', '제주특별자치도', '서귀포시')\")\n",
    "    \n",
    "sc.sql(\"select * from mst_user_location\").show()"
   ]
  },
  {
   "cell_type": "code",
   "execution_count": 4,
   "metadata": {},
   "outputs": [
    {
     "name": "stdout",
     "output_type": "stream",
     "text": [
      "+-------+----------------------+\n",
      "|user_id|             pref_city|\n",
      "+-------+----------------------+\n",
      "|   U003|제주특별자치도서귀포시|\n",
      "|   U002|    경기도수원시장안구|\n",
      "|   U001|      서울특별시강서구|\n",
      "+-------+----------------------+\n",
      "\n"
     ]
    }
   ],
   "source": [
    "sc.sql(\n",
    "\"select \\\n",
    "user_id\\\n",
    ",concat(pref_name,city_name) as pref_city \\\n",
    "from mst_user_location\").show()"
   ]
  },
  {
   "cell_type": "markdown",
   "metadata": {},
   "source": [
    "## 2"
   ]
  },
  {
   "cell_type": "code",
   "execution_count": 11,
   "metadata": {},
   "outputs": [
    {
     "name": "stdout",
     "output_type": "stream",
     "text": [
      "+----+-----+-----+-----+-----+\n",
      "|year|   q1|   q2|   q3|   q4|\n",
      "+----+-----+-----+-----+-----+\n",
      "|2015|82000|83000|78000|83000|\n",
      "|2016|85000|85000|80000|81000|\n",
      "|2017|92000|81000| null| null|\n",
      "+----+-----+-----+-----+-----+\n",
      "\n"
     ]
    }
   ],
   "source": [
    "sc.sql(\n",
    "\"CREATE TABLE quarterly_sales (\\\n",
    "    year integer\\\n",
    "  , q1   integer\\\n",
    "  , q2   integer\\\n",
    "  , q3   integer\\\n",
    "  , q4   integer)\")\n",
    "\n",
    "sc.sql(\n",
    "    \"INSERT INTO quarterly_sales VALUES\\\n",
    "    (2015, 82000, 83000, 78000, 83000)\\\n",
    "  , (2016, 85000, 85000, 80000, 81000)\\\n",
    "  , (2017, 92000, 81000, NULL , NULL )\")\n",
    "\n",
    "sc.sql(\"select * from quarterly_sales\").show()"
   ]
  },
  {
   "cell_type": "code",
   "execution_count": 10,
   "metadata": {},
   "outputs": [
    {
     "data": {
      "text/plain": [
       "DataFrame[]"
      ]
     },
     "execution_count": 10,
     "metadata": {},
     "output_type": "execute_result"
    }
   ],
   "source": []
  }
 ],
 "metadata": {
  "kernelspec": {
   "display_name": "Python 3",
   "language": "python",
   "name": "python3"
  },
  "language_info": {
   "codemirror_mode": {
    "name": "ipython",
    "version": 3
   },
   "file_extension": ".py",
   "mimetype": "text/x-python",
   "name": "python",
   "nbconvert_exporter": "python",
   "pygments_lexer": "ipython3",
   "version": "3.7.4"
  }
 },
 "nbformat": 4,
 "nbformat_minor": 2
}
