{
 "cells": [
  {
   "cell_type": "code",
   "execution_count": 1,
   "metadata": {},
   "outputs": [],
   "source": [
    "import findspark\n",
    "findspark.init()"
   ]
  },
  {
   "cell_type": "code",
   "execution_count": 6,
   "metadata": {},
   "outputs": [],
   "source": [
    "from pyspark.sql import SparkSession\n",
    "\n",
    "sc = SparkSession.builder.appName(\"PysparkExample\")\\\n",
    ".config (\"spark.sql.shuffle.partitions\", \"50\")\\\n",
    ".config(\"spark.driver.maxResultSize\",\"5g\")\\\n",
    ".config (\"spark.sql.execution.arrow.enabled\", \"true\")\\\n",
    ".getOrCreate()"
   ]
  },
  {
   "cell_type": "markdown",
   "metadata": {},
   "source": [
    "## 1"
   ]
  },
  {
   "cell_type": "code",
   "execution_count": 23,
   "metadata": {},
   "outputs": [
    {
     "data": {
      "text/plain": [
       "DataFrame[]"
      ]
     },
     "execution_count": 23,
     "metadata": {},
     "output_type": "execute_result"
    }
   ],
   "source": [
    "sc.sql(\"drop table if exists mst_users\")"
   ]
  },
  {
   "cell_type": "code",
   "execution_count": 24,
   "metadata": {},
   "outputs": [
    {
     "data": {
      "text/plain": [
       "DataFrame[]"
      ]
     },
     "execution_count": 24,
     "metadata": {},
     "output_type": "execute_result"
    }
   ],
   "source": [
    "sc.sql(\n",
    "\"CREATE TABLE mst_users(\\\n",
    "    user_id         varchar(255)\\\n",
    "  , register_date   varchar(255)\\\n",
    "  , register_device integer\\\n",
    ")\"\n",
    ")"
   ]
  },
  {
   "cell_type": "code",
   "execution_count": 25,
   "metadata": {},
   "outputs": [
    {
     "name": "stdout",
     "output_type": "stream",
     "text": [
      "+-------+-------------+---------------+\n",
      "|user_id|register_date|register_device|\n",
      "+-------+-------------+---------------+\n",
      "+-------+-------------+---------------+\n",
      "\n"
     ]
    }
   ],
   "source": [
    "sc.sql(\"select * from mst_users\").show()"
   ]
  },
  {
   "cell_type": "code",
   "execution_count": 28,
   "metadata": {},
   "outputs": [
    {
     "data": {
      "text/plain": [
       "DataFrame[]"
      ]
     },
     "execution_count": 28,
     "metadata": {},
     "output_type": "execute_result"
    }
   ],
   "source": [
    "sc.sql(\"INSERT INTO mst_users VALUES\\\n",
    "('U001', '2016-08-26', 1)\\\n",
    ",('U002', '2016-08-26', 2)\\\n",
    ",('U003', '2016-08-27', 3)\")"
   ]
  },
  {
   "cell_type": "code",
   "execution_count": 29,
   "metadata": {},
   "outputs": [
    {
     "name": "stdout",
     "output_type": "stream",
     "text": [
      "+-------+-------------+---------------+\n",
      "|user_id|register_date|register_device|\n",
      "+-------+-------------+---------------+\n",
      "|   U001|   2016-08-26|              1|\n",
      "|   U002|   2016-08-26|              2|\n",
      "|   U003|   2016-08-27|              3|\n",
      "+-------+-------------+---------------+\n",
      "\n"
     ]
    }
   ],
   "source": [
    "sc.sql(\"select * from mst_users\").show()"
   ]
  },
  {
   "cell_type": "code",
   "execution_count": 47,
   "metadata": {},
   "outputs": [
    {
     "name": "stdout",
     "output_type": "stream",
     "text": [
      "+-------+------------+\n",
      "|user_id| device_name|\n",
      "+-------+------------+\n",
      "|   U001|    데스크톱|\n",
      "|   U002|    스마트폰|\n",
      "|   U003|애플리케이션|\n",
      "+-------+------------+\n",
      "\n"
     ]
    }
   ],
   "source": [
    "sc.sql(\n",
    "    \"SELECT user_id,\\\n",
    "    CASE when register_device = 1 then '데스크톱'\\\n",
    "    when register_device = 2 then '스마트폰'\\\n",
    "    when register_device = 3 then '애플리케이션'\\\n",
    "    END AS device_name FROM mst_users\").show()"
   ]
  },
  {
   "cell_type": "markdown",
   "metadata": {},
   "source": [
    "## 2"
   ]
  },
  {
   "cell_type": "code",
   "execution_count": 49,
   "metadata": {},
   "outputs": [
    {
     "data": {
      "text/plain": [
       "DataFrame[]"
      ]
     },
     "execution_count": 49,
     "metadata": {},
     "output_type": "execute_result"
    }
   ],
   "source": [
    "sc.sql(\n",
    "\"create table access_log(\\\n",
    "stamp varchar(255),\\\n",
    "referrer string,\\\n",
    "url string)\")"
   ]
  },
  {
   "cell_type": "code",
   "execution_count": 51,
   "metadata": {},
   "outputs": [
    {
     "data": {
      "text/plain": [
       "DataFrame[]"
      ]
     },
     "execution_count": 51,
     "metadata": {},
     "output_type": "execute_result"
    }
   ],
   "source": [
    "sc.sql(\n",
    "\"insert into access_log values\\\n",
    "('2016-08-26 12:02:00', 'http://www.other.com/path1/index.php?k1=v1&k2=v2#Ref1',\\\n",
    "'http://www.example.com/video/detail?id=001')\\\n",
    ",('2016-08-26 12:02:01', 'http://www.other.net/path1/index.php?k1=v1&k2=v2#Ref1',\\\n",
    "'http://www.example.com/video#ref')\\\n",
    ",('2016-08-26 12:02:01', 'https://www.other.com/',\\\n",
    "'http://www.example.com/book/detail?id=002')\")"
   ]
  },
  {
   "cell_type": "code",
   "execution_count": 65,
   "metadata": {},
   "outputs": [
    {
     "name": "stdout",
     "output_type": "stream",
     "text": [
      "+-------------------+--------------------+--------------------+\n",
      "|              stamp|            referrer|                 url|\n",
      "+-------------------+--------------------+--------------------+\n",
      "|2016-08-26 12:02:00|http://www.other....|http://www.exampl...|\n",
      "|2016-08-26 12:02:01|http://www.other....|http://www.exampl...|\n",
      "|2016-08-26 12:02:01|https://www.other...|http://www.exampl...|\n",
      "+-------------------+--------------------+--------------------+\n",
      "\n"
     ]
    }
   ],
   "source": [
    "sc.sql(\"select * from access_log\").show()"
   ]
  },
  {
   "cell_type": "code",
   "execution_count": 55,
   "metadata": {},
   "outputs": [
    {
     "name": "stdout",
     "output_type": "stream",
     "text": [
      "+-------------------+-------------+\n",
      "|              stamp|referrer_host|\n",
      "+-------------------+-------------+\n",
      "|2016-08-26 12:02:00|www.other.com|\n",
      "|2016-08-26 12:02:01|www.other.net|\n",
      "|2016-08-26 12:02:01|www.other.com|\n",
      "+-------------------+-------------+\n",
      "\n"
     ]
    }
   ],
   "source": [
    "sc.sql(\n",
    "\"select stamp\\\n",
    ", parse_url(referrer,'HOST') as referrer_host\\\n",
    " from access_log\").show()"
   ]
  },
  {
   "cell_type": "code",
   "execution_count": 58,
   "metadata": {},
   "outputs": [
    {
     "name": "stdout",
     "output_type": "stream",
     "text": [
      "+-------------------+--------------------+-------------+----+\n",
      "|              stamp|                 url|         path|  id|\n",
      "+-------------------+--------------------+-------------+----+\n",
      "|2016-08-26 12:02:00|http://www.exampl...|/video/detail| 001|\n",
      "|2016-08-26 12:02:01|http://www.exampl...|       /video|null|\n",
      "|2016-08-26 12:02:01|http://www.exampl...| /book/detail| 002|\n",
      "+-------------------+--------------------+-------------+----+\n",
      "\n"
     ]
    }
   ],
   "source": [
    "sc.sql(\n",
    "\"select\\\n",
    " stamp\\\n",
    " ,url\\\n",
    " ,parse_url(url,'PATH') as path\\\n",
    " ,parse_url(url,'QUERY','id') as id\\\n",
    "  from access_log\").show()"
   ]
  },
  {
   "cell_type": "markdown",
   "metadata": {},
   "source": [
    "## 3"
   ]
  },
  {
   "cell_type": "code",
   "execution_count": 59,
   "metadata": {},
   "outputs": [
    {
     "name": "stdout",
     "output_type": "stream",
     "text": [
      "+-------------------+--------------------+-----+------+\n",
      "|              stamp|                 url|path1| path2|\n",
      "+-------------------+--------------------+-----+------+\n",
      "|2016-08-26 12:02:00|http://www.exampl...|video|detail|\n",
      "|2016-08-26 12:02:01|http://www.exampl...|video|  null|\n",
      "|2016-08-26 12:02:01|http://www.exampl...| book|detail|\n",
      "+-------------------+--------------------+-----+------+\n",
      "\n"
     ]
    }
   ],
   "source": [
    "sc.sql(\n",
    "\"select \\\n",
    "stamp\\\n",
    ",url\\\n",
    ",split(parse_url(url, 'PATH'),'/')[1] as path1\\\n",
    ",split(parse_url(url, 'PATH'),'/')[2] as path2 \\\n",
    "from access_log\").show()"
   ]
  },
  {
   "cell_type": "markdown",
   "metadata": {},
   "source": [
    "## 4"
   ]
  },
  {
   "cell_type": "code",
   "execution_count": 61,
   "metadata": {},
   "outputs": [
    {
     "name": "stdout",
     "output_type": "stream",
     "text": [
      "+----------+--------------------+\n",
      "|        dt|               stamp|\n",
      "+----------+--------------------+\n",
      "|2020-04-08|2020-04-08 21:26:...|\n",
      "+----------+--------------------+\n",
      "\n"
     ]
    }
   ],
   "source": [
    "sc.sql(\n",
    "\"select \\\n",
    "current_date as dt\\\n",
    ",current_timestamp as stamp\").show()"
   ]
  },
  {
   "cell_type": "code",
   "execution_count": 66,
   "metadata": {},
   "outputs": [
    {
     "name": "stdout",
     "output_type": "stream",
     "text": [
      "+----------+-------------------+\n",
      "|        dt|              stamp|\n",
      "+----------+-------------------+\n",
      "|2020-01-04|2020-04-08 09:33:00|\n",
      "+----------+-------------------+\n",
      "\n"
     ]
    }
   ],
   "source": [
    "sc.sql(\n",
    "\"select \\\n",
    "cast('2020-01-04' as date) as dt\\\n",
    ",timestamp '2020-04-08 09:33:00' as stamp\").show()"
   ]
  },
  {
   "cell_type": "code",
   "execution_count": 69,
   "metadata": {},
   "outputs": [
    {
     "name": "stdout",
     "output_type": "stream",
     "text": [
      "+-------------------+----+-----+---+----+\n",
      "|              stamp|year|month|day|hour|\n",
      "+-------------------+----+-----+---+----+\n",
      "|2020-04-08 21:36:23|2020|    4|  8|  21|\n",
      "+-------------------+----+-----+---+----+\n",
      "\n"
     ]
    }
   ],
   "source": [
    "sc.sql(\n",
    "\"select \\\n",
    "stamp\\\n",
    ",year(stamp) as year\\\n",
    ",month(stamp) as month\\\n",
    ",day(stamp) as day\\\n",
    ",hour(stamp) as hour \\\n",
    "from\\\n",
    "(select cast('2020-04-08 21:36:23' as timestamp) as stamp) as t\").show()"
   ]
  },
  {
   "cell_type": "code",
   "execution_count": 71,
   "metadata": {},
   "outputs": [
    {
     "name": "stdout",
     "output_type": "stream",
     "text": [
      "+-------------------+----+-----+---+----+----------+\n",
      "|              stamp|year|month|day|hour|year_month|\n",
      "+-------------------+----+-----+---+----+----------+\n",
      "|2020-04-08 21:41:23|2020|   04| 08|  21|   2020-04|\n",
      "+-------------------+----+-----+---+----+----------+\n",
      "\n"
     ]
    }
   ],
   "source": [
    "sc.sql(\n",
    "\"select \\\n",
    "stamp\\\n",
    ",substring(stamp,1,4) as year\\\n",
    ",substring(stamp,6,2) as month\\\n",
    ",substring(stamp,9,2) as day\\\n",
    ",substring(stamp,12,2) as hour\\\n",
    ",substring(stamp,1,7) as year_month \\\n",
    "from\\\n",
    "(select cast('2020-04-08 21:41:23' as string) as stamp)\").show()"
   ]
  },
  {
   "cell_type": "markdown",
   "metadata": {},
   "source": [
    "## 5"
   ]
  },
  {
   "cell_type": "code",
   "execution_count": 72,
   "metadata": {},
   "outputs": [
    {
     "data": {
      "text/plain": [
       "DataFrame[]"
      ]
     },
     "execution_count": 72,
     "metadata": {},
     "output_type": "execute_result"
    }
   ],
   "source": [
    "sc.sql(\n",
    "\"create table purchase_log_with_coupon (\\\n",
    "Purchase_id varchar(255)\\\n",
    ",amount integer\\\n",
    ",coupon integer)\")"
   ]
  },
  {
   "cell_type": "code",
   "execution_count": 75,
   "metadata": {},
   "outputs": [
    {
     "data": {
      "text/plain": [
       "DataFrame[]"
      ]
     },
     "execution_count": 75,
     "metadata": {},
     "output_type": "execute_result"
    }
   ],
   "source": [
    "sc.sql(\n",
    "\"insert into purchase_log_with_coupon values\\\n",
    "('10001',3280,null)\\\n",
    ",('10002',4650,500)\\\n",
    ",('10003',3870,null)\")"
   ]
  },
  {
   "cell_type": "code",
   "execution_count": 76,
   "metadata": {},
   "outputs": [
    {
     "name": "stdout",
     "output_type": "stream",
     "text": [
      "+-----------+------+------+\n",
      "|Purchase_id|amount|coupon|\n",
      "+-----------+------+------+\n",
      "|      10001|  3280|  null|\n",
      "|      10002|  4650|   500|\n",
      "|      10003|  3870|  null|\n",
      "+-----------+------+------+\n",
      "\n"
     ]
    }
   ],
   "source": [
    "sc.sql(\n",
    "\"select * from purchase_log_with_coupon\").show()"
   ]
  },
  {
   "cell_type": "code",
   "execution_count": 77,
   "metadata": {},
   "outputs": [
    {
     "name": "stdout",
     "output_type": "stream",
     "text": [
      "+-----------+----------------+----------------+\n",
      "|Purchase_id|discount_amount1|discount_amount2|\n",
      "+-----------+----------------+----------------+\n",
      "|      10001|            null|            3280|\n",
      "|      10002|            4150|            4150|\n",
      "|      10003|            null|            3870|\n",
      "+-----------+----------------+----------------+\n",
      "\n"
     ]
    }
   ],
   "source": [
    "sc.sql(\n",
    "\"select \\\n",
    "Purchase_id\\\n",
    ", amount - coupon as discount_amount1\\\n",
    ", amount - coalesce(coupon,0) as discount_amount2 \\\n",
    "from purchase_log_with_coupon\").show()"
   ]
  }
 ],
 "metadata": {
  "kernelspec": {
   "display_name": "Python 3",
   "language": "python",
   "name": "python3"
  },
  "language_info": {
   "codemirror_mode": {
    "name": "ipython",
    "version": 3
   },
   "file_extension": ".py",
   "mimetype": "text/x-python",
   "name": "python",
   "nbconvert_exporter": "python",
   "pygments_lexer": "ipython3",
   "version": "3.7.4"
  }
 },
 "nbformat": 4,
 "nbformat_minor": 2
}
